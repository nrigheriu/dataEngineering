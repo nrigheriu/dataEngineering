{
 "cells": [
  {
   "cell_type": "markdown",
   "metadata": {},
   "source": [
    "View Classes provide node, edge and degree \"views\" of a graph.\n",
    "Views for nodes, edges and degree are provided for all base graph classes.\n",
    "A view means a read-only object that is quick to create, automatically\n",
    "updated when the graph changes, and provides basic access like `n in V`,\n",
    "`for n in V`, `V[n]` and sometimes set operations.\n",
    "The views are read-only iterable containers that are updated as the\n",
    "graph is updated. As with dicts, the graph should not be updated\n",
    "while iterating through the view. Views can be iterated multiple times.\n",
    "Edge and Node views also allow data attribute lookup.\n",
    "The resulting attribute dict is writable as `G.edges[3, 4]['color']='red'`\n",
    "Degree views allow lookup of degree values for single nodes.\n",
    "Weighted degree is supported with the `weight` argument.\n",
    "NodeView\n",
    "========\n",
    "    `V = G.nodes` (or `V = G.nodes()`) allows `len(V)`, `n in V`, set\n",
    "    operations e.g. \"G.nodes & H.nodes\", and `dd = G.nodes[n]`, where\n",
    "    `dd` is the node data dict. Iteration is over the nodes by default.\n",
    "NodeDataView\n",
    "============\n",
    "    To iterate over (node, data) pairs, use arguments to `G.nodes()`\n",
    "    to create a DataView e.g. `DV = G.nodes(data='color', default='red')`.\n",
    "    The DataView iterates as `for n, color in DV` and allows\n",
    "    `(n, 'red') in DV`. Using `DV = G.nodes(data=True)`, the DataViews\n",
    "    use the full datadict in writeable form also allowing contain testing as\n",
    "    `(n, {'color': 'red'}) in VD`. DataViews allow set operations when\n",
    "    data attributes are hashable.\n",
    "DegreeView\n",
    "==========\n",
    "    `V = G.degree` allows iteration over (node, degree) pairs as well\n",
    "    as lookup: `deg=V[n]`. There are many flavors of DegreeView\n",
    "    for In/Out/Directed/Multi. For Directed Graphs, `G.degree`\n",
    "    counts both in and out going edges. `G.out_degree` and\n",
    "    `G.in_degree` count only specific directions.\n",
    "    Weighted degree using edge data attributes is provide via\n",
    "    `V = G.degree(weight='attr_name')` where any string with the\n",
    "    attribute name can be used. `weight=None` is the default.\n",
    "    No set operations are implemented for degrees, use NodeView.\n",
    "    The argument `nbunch` restricts iteration to nodes in nbunch.\n",
    "    The DegreeView can still lookup any node even if nbunch is specified.\n",
    "EdgeView\n",
    "========\n",
    "    `V = G.edges` or `V = G.edges()` allows iteration over edges as well as\n",
    "    `e in V`, set operations and edge data lookup `dd = G.edges[2, 3]`.\n",
    "    Iteration is over 2-tuples `(u, v)` for Graph/DiGraph. For multigraphs\n",
    "    edges 3-tuples `(u, v, key)` are the default but 2-tuples can be obtained\n",
    "    via `V = G.edges(keys=False)`.\n",
    "    Set operations for directed graphs treat the edges as a set of 2-tuples.\n",
    "    For undirected graphs, 2-tuples are not a unique representation of edges.\n",
    "    So long as the set being compared to contains unique representations\n",
    "    of its edges, the set operations will act as expected. If the other\n",
    "    set contains both `(0, 1)` and `(1, 0)` however, the result of set\n",
    "    operations may contain both representations of the same edge.\n",
    "EdgeDataView\n",
    "============\n",
    "    Edge data can be reported using an EdgeDataView typically created\n",
    "    by calling an EdgeView: `DV = G.edges(data='weight', default=1)`.\n",
    "    The EdgeDataView allows iteration over edge tuples, membership checking\n",
    "    but no set operations.\n",
    "    Iteration depends on `data` and `default` and for multigraph `keys`\n",
    "    If `data is False` (the default) then iterate over 2-tuples `(u, v)`.\n",
    "    If `data is True` iterate over 3-tuples `(u, v, datadict)`.\n",
    "    Otherwise iterate over `(u, v, datadict.get(data, default))`.\n",
    "    For Multigraphs, if `keys is True`, replace `u, v` with `u, v, key`\n",
    "    to create 3-tuples and 4-tuples.\n",
    "    The argument `nbunch` restricts edges to those incident to nodes in nbunch.\n",
    "\"\"\""
   ]
  },
  {
   "cell_type": "code",
   "execution_count": null,
   "metadata": {},
   "outputs": [],
   "source": [
    "import networkx as nx"
   ]
  },
  {
   "cell_type": "code",
   "execution_count": null,
   "metadata": {},
   "outputs": [],
   "source": [
    "from networkx.readwrite import json_graph\n",
    "import json"
   ]
  },
  {
   "cell_type": "code",
   "execution_count": 213,
   "metadata": {},
   "outputs": [],
   "source": [
    "graphJSON = json.loads(open('de_data/jsonGraph.json').read())"
   ]
  },
  {
   "cell_type": "code",
   "execution_count": 104,
   "metadata": {},
   "outputs": [],
   "source": [
    "H = json_graph.node_link_graph(graphJSON, multigraph=False)"
   ]
  },
  {
   "cell_type": "code",
   "execution_count": 131,
   "metadata": {},
   "outputs": [
    {
     "data": {
      "image/png": "[encoded data removed]",
      "text/plain": [
       "<Figure size 432x288 with 1 Axes>"
      ]
     },
     "metadata": {},
     "output_type": "display_data"
    }
   ],
   "source": [
    "nx.draw(H)"
   ]
  },
  {
   "cell_type": "code",
   "execution_count": 132,
   "metadata": {},
   "outputs": [
    {
     "data": {
      "image/png": "[encoded data removed]",
      "text/plain": [
       "<Figure size 432x288 with 1 Axes>"
      ]
     },
     "metadata": {},
     "output_type": "display_data"
    }
   ],
   "source": [
    "pos = nx.spring_layout(H)\n",
    "colors = range(20)\n",
    "nx.draw(H, pos, node_color='#A0CBE2', edge_color='#D4C490',\n",
    "        width=4, edge_cmap=plt.cm.Blues, with_labels=False)\n",
    "plt.show()"
   ]
  },
  {
   "cell_type": "code",
   "execution_count": 214,
   "metadata": {},
   "outputs": [],
   "source": [
    "pr = nx.pagerank(H, alpha=0.15, weight='weight')"
   ]
  },
  {
   "cell_type": "code",
   "execution_count": 216,
   "metadata": {},
   "outputs": [],
   "source": [
    "for key, value in pr.items():\n",
    "    H.nodes[key]['pagerank'] = value"
   ]
  },
  {
   "cell_type": "code",
   "execution_count": 218,
   "metadata": {},
   "outputs": [],
   "source": [
    "weighted_degree = H.degree(weight='weight')"
   ]
  },
  {
   "cell_type": "code",
   "execution_count": 220,
   "metadata": {},
   "outputs": [],
   "source": [
    "unweighted_degree = H.degree()"
   ]
  },
  {
   "cell_type": "code",
   "execution_count": 223,
   "metadata": {},
   "outputs": [],
   "source": [
    "for key, value in unweighted_degree:\n",
    "    H.nodes[key]['unweighted_degree'] = value"
   ]
  },
  {
   "cell_type": "code",
   "execution_count": 225,
   "metadata": {},
   "outputs": [],
   "source": [
    "for key, value in weighted_degree:\n",
    "    H.nodes[key]['weighted_degree'] = value"
   ]
  },
  {
   "cell_type": "code",
   "execution_count": 224,
   "metadata": {},
   "outputs": [
    {
     "name": "stdout",
     "output_type": "stream",
     "text": [
      "4JNXUYY8wbaaDmk3BPzlWw 81.11498999999989\n"
     ]
    }
   ],
   "source": [
    "maxi = 0\n",
    "maxi_key = ''\n",
    "for key, value in weighted_degree:\n",
    "    if(value>maxi):\n",
    "        maxi = value\n",
    "        maxi_key = key\n",
    "        \n",
    "print(maxi_key, maxi)"
   ]
  },
  {
   "cell_type": "code",
   "execution_count": 226,
   "metadata": {},
   "outputs": [],
   "source": [
    "# write back the graph to JSON\n",
    "\n",
    "savedData = nx.readwrite.json_graph.node_link_data(H)\n",
    "with open('jsonEnrichedGraph.json', 'w') as outfile:\n",
    "    json.dump(savedData, outfile)"
   ]
  }
 ],
 "metadata": {
  "kernelspec": {
   "display_name": "Python 3",
   "language": "python",
   "name": "python3"
  },
  "language_info": {
   "codemirror_mode": {
    "name": "ipython",
    "version": 3
   },
   "file_extension": ".py",
   "mimetype": "text/x-python",
   "name": "python",
   "nbconvert_exporter": "python",
   "pygments_lexer": "ipython3",
   "version": "3.6.5"
  }
 },
 "nbformat": 4,
 "nbformat_minor": 2
}
